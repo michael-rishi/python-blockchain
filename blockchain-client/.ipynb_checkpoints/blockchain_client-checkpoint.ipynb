{
 "cells": [
  {
   "cell_type": "code",
   "execution_count": null,
   "metadata": {},
   "outputs": [],
   "source": [
    "'''\n",
    "title           : blockchain_client.py\n",
    "description     : A blockchain client implemenation, with the following features\n",
    "                  - Wallets generation using Public/Private key encryption (based on RSA algorithm)\n",
    "                  - Generation of transactions with RSA encryption      \n",
    "author          : Ajay Malhotra\n",
    "date_created    : 20190423\n",
    "date_modified   : 20190423\n",
    "version         : 0.3\n",
    "usage           : python blockchain_client.py\n",
    "                  python blockchain_client.py -p 8080\n",
    "                  python blockchain_client.py --port 8080\n",
    "python_version  : 3.7.2\n",
    "Comments        : Wallet generation and transaction signature is based on [1]\n",
    "References      : [1] https://github.com/julienr/ipynb_playground/blob/master/bitcoin/dumbcoin/dumbcoin.ipynb\n",
    "                  [2] https://github.com/adilmoujahid/blockchain-python-tutorial/blob/master/blockchain_client/blockchain_client.py\n",
    "'''"
   ]
  }
 ],
 "metadata": {
  "kernelspec": {
   "display_name": "Python 3",
   "language": "python",
   "name": "python3"
  },
  "language_info": {
   "codemirror_mode": {
    "name": "ipython",
    "version": 3
   },
   "file_extension": ".py",
   "mimetype": "text/x-python",
   "name": "python",
   "nbconvert_exporter": "python",
   "pygments_lexer": "ipython3",
   "version": "3.7.3"
  }
 },
 "nbformat": 4,
 "nbformat_minor": 2
}
