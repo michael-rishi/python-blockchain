{
 "cells": [
  {
   "cell_type": "code",
   "execution_count": 1,
   "metadata": {},
   "outputs": [],
   "source": [
    "'''\n",
    "title           : blockchain_client.py\n",
    "description     : A blockchain client implemenation, with the following features\n",
    "                  - Wallets generation using Public/Private key encryption (based on RSA algorithm)\n",
    "                  - Generation of transactions with RSA encryption      \n",
    "author          : Ajay Malhotra\n",
    "date_created    : 20190423\n",
    "date_modified   : 20190423\n",
    "version         : 0.3\n",
    "usage           : python blockchain_client.py\n",
    "                  python blockchain_client.py -p 8080\n",
    "                  python blockchain_client.py --port 8080\n",
    "python_version  : 3.7.2\n",
    "Comments        : Wallet generation and transaction signature is based on [1]\n",
    "References      : [1] https://github.com/julienr/ipynb_playground/blob/master/bitcoin/dumbcoin/dumbcoin.ipynb\n",
    "                  [2] https://github.com/adilmoujahid/blockchain-python-tutorial/blob/master/blockchain_client/blockchain_client.py\n",
    "'''\n",
    "from collections import OrderedDict\n",
    "\n",
    "import binascii\n",
    "\n",
    "import Crypto\n",
    "import Crypto.Random\n",
    "from Crypto.Hash import SHA\n",
    "from Crypto.PublicKey import RSA\n",
    "from Crypto.Signature import PKCS1_v1_5\n",
    "\n",
    "import requests\n",
    "from flask import Flask, jsonify, request, render_template"
   ]
  },
  {
   "cell_type": "code",
   "execution_count": 2,
   "metadata": {},
   "outputs": [],
   "source": [
    "class Transaction:\n",
    "\n",
    "    def __init__(self, sender_address, sender_private_key, recipient_address, value):\n",
    "        self.sender_address = sender_address\n",
    "        self.sender_private_key = sender_private_key\n",
    "        self.recipient_address = recipient_address\n",
    "        self.value = value\n",
    "\n",
    "    def __getattr__(self, attr):\n",
    "        return self.data[attr]\n",
    "\n",
    "    def to_dict(self):\n",
    "        return OrderedDict({'sender_address': self.sender_address,\n",
    "                            'recipient_address': self.recipient_address,\n",
    "                            'value': self.value})\n",
    "\n",
    "    def sign_transaction(self):\n",
    "        \"\"\"\n",
    "        Sign transaction with private key\n",
    "        \"\"\"\n",
    "        private_key = RSA.importKey(binascii.unhexlify(self.sender_private_key))\n",
    "        signer = PKCS1_v1_5.new(private_key)\n",
    "        h = SHA.new(str(self.to_dict()).encode('utf8'))\n",
    "        return binascii.hexlify(signer.sign(h)).decode('ascii')"
   ]
  },
  {
   "cell_type": "code",
   "execution_count": 3,
   "metadata": {},
   "outputs": [],
   "source": [
    "app = Flask(__name__)\n",
    "\n",
    "@app.route('/')\n",
    "def index():\n",
    "    return render_template('./index.html')\n",
    "\n",
    "@app.route('/make/transaction')\n",
    "def make_transaction():\n",
    "    return render_template('./make_transaction.html')\n",
    "\n",
    "@app.route('/view/transactions')\n",
    "def view_transaction():\n",
    "    return render_template('./view_transactions.html')\n",
    "\n",
    "@app.route('/wallet/new', methods=['GET'])\n",
    "def new_wallet():\n",
    "    random_gen = Crypto.Random.new().read\n",
    "    private_key = RSA.generate(1024, random_gen)\n",
    "    public_key = private_key.publickey()\n",
    "    response = {\n",
    "        'private_key': binascii.hexlify(private_key.exportKey(format='DER')).decode('ascii'),\n",
    "        'public_key': binascii.hexlify(public_key.exportKey(format='DER')).decode('ascii')\n",
    "    }\n",
    "    return jsonify(response), 200\n"
   ]
  },
  {
   "cell_type": "code",
   "execution_count": 4,
   "metadata": {},
   "outputs": [],
   "source": [
    "@app.route('/generate/transaction', methods=['POST'])\n",
    "def generate_transaction():\n",
    "\n",
    "    sender_address = request.form['sender_address']\n",
    "    sender_private_key = request.form['sender_private_key']\n",
    "    recipient_address = request.form['recipient_address']\n",
    "    value = request.form['amount']\n",
    "\n",
    "    transaction = Transaction(sender_address, sender_private_key, recipient_address, value)\n",
    "\n",
    "    response = {'transaction': transaction.to_dict(), 'signature': transaction.sign_transaction()}\n",
    "\n",
    "    return jsonify(response), 200\n"
   ]
  },
  {
   "cell_type": "code",
   "execution_count": null,
   "metadata": {},
   "outputs": [
    {
     "name": "stdout",
     "output_type": "stream",
     "text": [
      " * Serving Flask app \"__main__\" (lazy loading)\n",
      " * Environment: production\n",
      "   WARNING: Do not use the development server in a production environment.\n",
      "   Use a production WSGI server instead.\n",
      " * Debug mode: off\n"
     ]
    },
    {
     "name": "stderr",
     "output_type": "stream",
     "text": [
      " * Running on http://127.0.0.1:8080/ (Press CTRL+C to quit)\n",
      "127.0.0.1 - - [23/Apr/2019 19:29:37] \"GET / HTTP/1.1\" 200 -\n",
      "127.0.0.1 - - [23/Apr/2019 19:29:37] \"GET /static/css/custom.css HTTP/1.1\" 200 -\n",
      "127.0.0.1 - - [23/Apr/2019 19:29:37] \"GET /static/vendor/bootstrap/css/bootstrap.min.css HTTP/1.1\" 200 -\n",
      "127.0.0.1 - - [23/Apr/2019 19:29:37] \"GET /static/vendor/jquery/jquery.min.js HTTP/1.1\" 200 -\n",
      "127.0.0.1 - - [23/Apr/2019 19:29:37] \"GET /static/vendor/bootstrap/js/bootstrap.bundle.min.js HTTP/1.1\" 200 -\n",
      "127.0.0.1 - - [23/Apr/2019 19:29:37] \"GET /favicon.ico HTTP/1.1\" 404 -\n",
      "127.0.0.1 - - [23/Apr/2019 19:29:40] \"GET /wallet/new HTTP/1.1\" 200 -\n",
      "127.0.0.1 - - [23/Apr/2019 19:31:02] \"GET /make/transaction HTTP/1.1\" 200 -\n",
      "127.0.0.1 - - [23/Apr/2019 19:31:02] \"GET /favicon.ico HTTP/1.1\" 404 -\n",
      "127.0.0.1 - - [23/Apr/2019 19:31:31] \"GET / HTTP/1.1\" 200 -\n",
      "127.0.0.1 - - [23/Apr/2019 19:31:34] \"GET / HTTP/1.1\" 200 -\n",
      "127.0.0.1 - - [23/Apr/2019 19:31:34] \"GET /static/vendor/jquery/jquery.min.js HTTP/1.1\" 200 -\n",
      "127.0.0.1 - - [23/Apr/2019 19:31:34] \"GET /static/css/custom.css HTTP/1.1\" 200 -\n",
      "127.0.0.1 - - [23/Apr/2019 19:31:38] \"GET /wallet/new HTTP/1.1\" 200 -\n",
      "127.0.0.1 - - [23/Apr/2019 19:31:45] \"GET /make/transaction HTTP/1.1\" 200 -\n",
      "127.0.0.1 - - [23/Apr/2019 19:33:41] \"POST /generate/transaction HTTP/1.1\" 200 -\n",
      "127.0.0.1 - - [23/Apr/2019 19:34:24] \"GET /view/transactions HTTP/1.1\" 200 -\n",
      "127.0.0.1 - - [23/Apr/2019 19:34:24] \"GET /static/vendor/DataTables/css/datatables.min.css HTTP/1.1\" 200 -\n",
      "127.0.0.1 - - [23/Apr/2019 19:34:24] \"GET /static/vendor/DataTables/js/datatables.min.js HTTP/1.1\" 200 -\n",
      "127.0.0.1 - - [23/Apr/2019 19:34:24] \"GET /static/vendor/DataTables/js/ellipsis.js HTTP/1.1\" 200 -\n",
      "127.0.0.1 - - [23/Apr/2019 19:34:24] \"GET /favicon.ico HTTP/1.1\" 404 -\n",
      "127.0.0.1 - - [23/Apr/2019 19:34:29] \"GET /static/vendor/DataTables/css/DataTables-1.10.16/images/sort_both.png HTTP/1.1\" 200 -\n",
      "127.0.0.1 - - [23/Apr/2019 19:34:29] \"GET /static/vendor/DataTables/css/DataTables-1.10.16/images/sort_asc.png HTTP/1.1\" 200 -\n",
      "127.0.0.1 - - [23/Apr/2019 19:36:33] \"GET /view/transactions HTTP/1.1\" 200 -\n",
      "127.0.0.1 - - [23/Apr/2019 19:36:37] \"GET / HTTP/1.1\" 200 -\n",
      "127.0.0.1 - - [23/Apr/2019 19:36:39] \"GET /make/transaction HTTP/1.1\" 200 -\n",
      "127.0.0.1 - - [23/Apr/2019 19:36:40] \"GET /view/transactions HTTP/1.1\" 200 -\n"
     ]
    }
   ],
   "source": [
    "if __name__ == '__main__':\n",
    "    '''from argparse import ArgumentParser\n",
    "\n",
    "    parser = ArgumentParser()\n",
    "    parser.add_argument('-p', '--port', default=8080, type=int, help='port to listen on')\n",
    "    args = parser.parse_args()\n",
    "    port = args.port\n",
    "    '''\n",
    "    port = 8080\n",
    "    app.run(host='127.0.0.1', port=port)"
   ]
  },
  {
   "cell_type": "code",
   "execution_count": null,
   "metadata": {},
   "outputs": [],
   "source": []
  }
 ],
 "metadata": {
  "kernelspec": {
   "display_name": "Python 3",
   "language": "python",
   "name": "python3"
  },
  "language_info": {
   "codemirror_mode": {
    "name": "ipython",
    "version": 3
   },
   "file_extension": ".py",
   "mimetype": "text/x-python",
   "name": "python",
   "nbconvert_exporter": "python",
   "pygments_lexer": "ipython3",
   "version": "3.7.3"
  }
 },
 "nbformat": 4,
 "nbformat_minor": 2
}
